{
 "cells": [
  {
   "cell_type": "code",
   "execution_count": 36,
   "metadata": {},
   "outputs": [],
   "source": [
    "# from scipy.integrate import odeint\n",
    "from math import pi\n",
    "import numpy as np\n",
    "from math import sin \n",
    "from math import cos\n",
    "import matplotlib\n",
    "import matplotlib.pyplot as plt\n",
    "import matplotlib.animation as animation\n",
    "import random\n",
    "from scipy.optimize import minimize\n",
    "%matplotlib notebook\n",
    "\n",
    "def Mgenerator(Ntr,MaxM):\n",
    "    MgenTr = np.array([random.uniform(0.00001, 2)])   \n",
    "    # Generate training set\n",
    "    for i in range(Ntr):\n",
    "        Mgen = random.uniform(-MaxM, MaxM)\n",
    "        MgenTr = np.vstack((MgenTr, Mgen))\n",
    "    return MgenTr\n",
    "\n",
    "# Generate Torques\n",
    "Ntr = 9999\n",
    "Max = 5\n",
    "MgenTr = Mgenerator(Ntr,Max)\n",
    "MgenTr = np.hstack((MgenTr,Mgenerator(Ntr,Max)))\n",
    "\n",
    "np.save('TorquesTraining',MgenTr)"
   ]
  }
 ],
 "metadata": {
  "kernelspec": {
   "display_name": "Python 3",
   "language": "python",
   "name": "python3"
  },
  "language_info": {
   "codemirror_mode": {
    "name": "ipython",
    "version": 3
   },
   "file_extension": ".py",
   "mimetype": "text/x-python",
   "name": "python",
   "nbconvert_exporter": "python",
   "pygments_lexer": "ipython3",
   "version": "3.7.4"
  }
 },
 "nbformat": 4,
 "nbformat_minor": 2
}
